{
 "cells": [
  {
   "cell_type": "markdown",
   "id": "1e4d9009-1f54-42cc-a780-91b343ebde04",
   "metadata": {},
   "source": [
    "This is my second project for github"
   ]
  },
  {
   "cell_type": "code",
   "execution_count": null,
   "id": "52d3a936-5d04-4114-8805-ab7819ae7745",
   "metadata": {},
   "outputs": [],
   "source": []
  }
 ],
 "metadata": {
  "kernelspec": {
   "display_name": "Python 3 (ipykernel)",
   "language": "python",
   "name": "python3"
  },
  "language_info": {
   "codemirror_mode": {
    "name": "ipython",
    "version": 3
   },
   "file_extension": ".py",
   "mimetype": "text/x-python",
   "name": "python",
   "nbconvert_exporter": "python",
   "pygments_lexer": "ipython3",
   "version": "3.10.4"
  }
 },
 "nbformat": 4,
 "nbformat_minor": 5
}
